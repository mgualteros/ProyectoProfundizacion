{
  "nbformat": 4,
  "nbformat_minor": 0,
  "metadata": {
    "colab": {
      "provenance": []
    },
    "kernelspec": {
      "name": "python3",
      "display_name": "Python 3"
    }
  },
  "cells": [
    {
      "cell_type": "markdown",
      "metadata": {
        "id": "au1giV3cJBF5"
      },
      "source": [
        "![Universidad Central](https://www.ucentral.edu.co/sites/default/files/inline-images/identificadores-Centrados_en_ti_logo-h.png)"
      ]
    },
    {
      "cell_type": "markdown",
      "metadata": {
        "id": "eWZAdQe4eb4P"
      },
      "source": [
        "# __CURSO DE PROGRAMACIÓN PARA ANALÍTICA DE DATOS__\n",
        "\n",
        "> ## __TALLER N° 5:  ESTRUCTURAS DE DATOS Y CADENAS DE TEXTO__\n",
        ">\n",
        "> ## Profesor: Jorge Victorino [jvictorinog@ucentral.edu.co](jvictorinog@ucentral.edu.co)<br>\n",
        "> ### Facultad de Ingeniería y Ciencias Básicas <br>\n",
        "> ### Universidad Central <br>\n",
        "> <br>\n",
        ">\n",
        "> ## __Contenido__\n",
        ">> ## Listas\n",
        ">> - Declaración de listas\n",
        ">> - Recorrer listas\n",
        ">> - Funciones para listas\n",
        ">> - Manipular sublistas\n",
        ">> - Comprensión de listas\n",
        ">\n",
        ">> ## Otras estrcuturas de datos\n",
        ">> - Tuplas\n",
        ">> - Conjuntos\n",
        ">> - Diccionarios\n",
        ">\n",
        ">> Manipulación de cadenas de texto\n",
        ">>* Concatenar y partir\n",
        ">>* Buscar y reemplazar\n",
        ">>* Archivos de texto\n",
        ">>* Verficaciones con cadenas\n",
        ">>* Otras operaciones con cadenas\n",
        ">\n",
        ">> ## Ejercicios\n",
        "---\n",
        "\n",
        "\n"
      ]
    },
    {
      "cell_type": "markdown",
      "metadata": {
        "id": "gRs-jHMcvMZf"
      },
      "source": [
        "## __Introducción a las listas__\n",
        "\n",
        "> - Declaración de listas\n",
        "    - Listas vacias\n",
        "    - Listas con valores iniciales\n",
        "- Agregar valores a las listas\n",
        "    - Función append()\n",
        "    - Función extend()\n",
        "- Acceso a las listas por medio de índices\n",
        "    - Índices positivos (0, n-1)\n",
        "    - Índices negativos (-n, -1)\n",
        "- Métodos para recorrer las listas\n",
        "    - Ciclo while con índices\n",
        "    - Ciclo for con rango de índices\n",
        "    - Ciclo for por elementos de la lista\n"
      ]
    },
    {
      "cell_type": "markdown",
      "metadata": {
        "id": "nifPzxsePTal"
      },
      "source": [
        "## Listas\n",
        "\n",
        ">Una lista es un tipo de estructura de datos que alamacena una secuencia de elementos, los cuales quedan ordenados en relación a  un índice utilizado para accederlos. Este tipo de estructura permite almacenar y mezclar todo tipo datos, como: enteros, decimales, cadenas, otras listas, y objetos.\n",
        "\n",
        ">Una lista vacía (sin elementos en su interior) puede ser declarada en python de la siguiente forma:\n",
        "\n",
        "```python\n",
        "lst_uno = []\n",
        "lst_dos = list()\n",
        "print(lst_uno)\n",
        "print('cantidad elementos en lista: ',len(lst_uno))\n",
        "```\n",
        "\n",
        "> Las listas pueden contener elementos del mísmo o diferente tipo.\n",
        "\n",
        "\n",
        "```python\n",
        "lst_ent = [1, 2, 3, 4, 5]\n",
        "lst_real = [1.0, 2.1, 4.8, 6.2]\n",
        "lst_fecha = [\"Martes\", 29, 'de Enero', 2019]\n",
        "```\n",
        "* Generar secuencias o listas con valores iniciales...\n"
      ]
    },
    {
      "cell_type": "code",
      "metadata": {
        "id": "zTUtoSmoOAcd"
      },
      "source": [
        "# celda de código para practicar"
      ],
      "execution_count": null,
      "outputs": []
    },
    {
      "cell_type": "markdown",
      "metadata": {
        "id": "qkfjeCLTg6kK"
      },
      "source": [
        "### Agregar elementos a una lista.\n",
        "\n",
        ">Usted puede agregar un elemento a una lista vacía o a una lista que ya tenga elementos a partir de la función **append()**. Esta función requiere como argumento el elemento que usted quiere añadir a la lista.\n",
        "\n",
        "\n",
        "\n",
        "```python\n",
        "lst_uno.append('primero')\n",
        "lst_uno.append('segundo')\n",
        "lst_uno.append([2,5])\n",
        "print(lst_uno)\n",
        "print('cantidad elementos en lista: ',len(lst_uno))\n",
        "\n",
        "```\n",
        ">Luego de imprimir la lista, usted puede darse cuenta que el último elemento que se agregó fue una lista. Fijese bien que este se agrega a partir de la función *append* como un único elemento.\n",
        "\n",
        ">En caso de que se requiera añadir a una lista los elementos de otra lista como elementos independientes, deberá utilizar la función **extend()**\n",
        "\n",
        "\n",
        "```python\n",
        "lst_uno.extend([4,6,7])\n",
        "print(lst_uno)\n",
        "lst_uno.extend([122]*5)\n",
        "```"
      ]
    },
    {
      "cell_type": "code",
      "metadata": {
        "id": "OzRmqSl_hM_Y",
        "colab": {
          "base_uri": "https://localhost:8080/"
        },
        "outputId": "2e6c82ca-1ec4-4b3c-8601-11bda5777282"
      },
      "source": [
        "#crear lista de numeros\n",
        "numeros=[9,2,8,3,6,4,9,]\n",
        "acumulador = 0\n",
        "for elemento in numeros:\n",
        "    acumulador += elemento\n",
        "    print(elemento, acumulador)\n",
        "\n",
        "print('suma total es :', acumulador)\n"
      ],
      "execution_count": null,
      "outputs": [
        {
          "output_type": "stream",
          "name": "stdout",
          "text": [
            "9 9\n",
            "2 11\n",
            "8 19\n",
            "3 22\n",
            "6 28\n",
            "4 32\n",
            "9 41\n",
            "suma total es : 41\n"
          ]
        }
      ]
    },
    {
      "cell_type": "code",
      "source": [
        "len(numeros), type(numeros), numeros"
      ],
      "metadata": {
        "id": "hvp5zJP-WSFf"
      },
      "execution_count": null,
      "outputs": []
    },
    {
      "cell_type": "code",
      "source": [
        "\n",
        "numeros=[9,2,8,3,6,4,9,]\n",
        "acumulador = 0\n",
        "for ind in range(len(numeros)): ## indice contador ind\n",
        "    acumulador += numeros[ind]\n",
        "    print(ind, numeros[ind], acumulador)\n",
        "\n",
        "print('suma total es :', acumulador)\n"
      ],
      "metadata": {
        "colab": {
          "base_uri": "https://localhost:8080/"
        },
        "id": "ekG6YduwWpcX",
        "outputId": "7d978fcc-73d2-4993-b885-68dbefc49f19"
      },
      "execution_count": null,
      "outputs": [
        {
          "output_type": "stream",
          "name": "stdout",
          "text": [
            "0 9 9\n",
            "1 2 11\n",
            "2 8 19\n",
            "3 3 22\n",
            "4 6 28\n",
            "5 4 32\n",
            "6 9 41\n",
            "suma total es : 41\n"
          ]
        }
      ]
    },
    {
      "cell_type": "code",
      "source": [
        "numeros=[4,2,8,9,6,4,9,4,3]\n",
        "max =  numeros[0]\n",
        "for element in numeros:\n",
        "    if element > max:\n",
        "        max= element\n",
        "cont=0\n",
        "posiciones = []\n",
        "for ind, element in enumerate(numeros):\n",
        "    print (max, element)\n",
        "    if max == element:\n",
        "        cont = cont+1\n",
        "        posiciones.append(ind)\n",
        "        print('el elemento va a ser:',element, 'indice es :', ind, 'contador es : ', cont, 'posiciones es :', posiciones)\n",
        "\n",
        "\n",
        "print('valor maximo :', max)\n",
        "print('cantidad de veces que aparece el numero maximo :', cont)"
      ],
      "metadata": {
        "colab": {
          "base_uri": "https://localhost:8080/"
        },
        "id": "TSVqvFzogA3k",
        "outputId": "a2cc2f61-7347-4206-c383-d72f56f7bcb5"
      },
      "execution_count": null,
      "outputs": [
        {
          "output_type": "stream",
          "name": "stdout",
          "text": [
            "9 4\n",
            "9 2\n",
            "9 8\n",
            "9 9\n",
            "el elemento va a ser: 9 indice es : 3 contador es :  1 posiciones es : [3]\n",
            "9 6\n",
            "9 4\n",
            "9 9\n",
            "el elemento va a ser: 9 indice es : 6 contador es :  2 posiciones es : [3, 6]\n",
            "9 4\n",
            "9 3\n",
            "valor maximo : 9\n",
            "cantidad de veces que aparece el numero maximo : 2\n"
          ]
        }
      ]
    },
    {
      "cell_type": "code",
      "source": [
        "def maximos(numero):\n",
        "    max =  numeros[0]\n",
        "    for element in numeros:\n",
        "        if element > max:\n",
        "            max= element\n",
        "    cont=0\n",
        "    posiciones = []\n",
        "    for ind, element in enumerate(numeros):\n",
        "        if max == element:\n",
        "            cont = cont+10\n",
        "    return max,cont, posiciones\n",
        "\n",
        "numeros=[4,2,8,9,12,3,6,9,4,12,9]\n",
        "print(maximos(numeros))"
      ],
      "metadata": {
        "colab": {
          "base_uri": "https://localhost:8080/"
        },
        "id": "JwWVFcQJmM6i",
        "outputId": "276efdee-4c52-4fb3-b840-4654fd120dd9"
      },
      "execution_count": null,
      "outputs": [
        {
          "output_type": "stream",
          "name": "stdout",
          "text": [
            "(12, 20, [])\n"
          ]
        }
      ]
    },
    {
      "cell_type": "code",
      "source": [
        "numeros[:4]\n"
      ],
      "metadata": {
        "colab": {
          "base_uri": "https://localhost:8080/"
        },
        "id": "Y_OV9QCApGJg",
        "outputId": "0d6d6bb3-f5ae-43c3-867f-965e5b31ce16"
      },
      "execution_count": null,
      "outputs": [
        {
          "output_type": "execute_result",
          "data": {
            "text/plain": [
              "[4, 2, 8, 9]"
            ]
          },
          "metadata": {},
          "execution_count": 41
        }
      ]
    },
    {
      "cell_type": "code",
      "source": [
        "numeros[4:]"
      ],
      "metadata": {
        "colab": {
          "base_uri": "https://localhost:8080/"
        },
        "id": "ny9ax97jqQPP",
        "outputId": "fdea7ab3-6b1c-4043-8e7f-796eedfac852"
      },
      "execution_count": null,
      "outputs": [
        {
          "output_type": "execute_result",
          "data": {
            "text/plain": [
              "[12, 3, 6, 9, 4, 12, 9]"
            ]
          },
          "metadata": {},
          "execution_count": 42
        }
      ]
    },
    {
      "cell_type": "code",
      "source": [
        "numeros[::-1]"
      ],
      "metadata": {
        "colab": {
          "base_uri": "https://localhost:8080/"
        },
        "id": "rl5v0Tc1qYd_",
        "outputId": "929da5b4-2808-4d36-8d14-50db7c2f4ee9"
      },
      "execution_count": null,
      "outputs": [
        {
          "output_type": "execute_result",
          "data": {
            "text/plain": [
              "[9, 12, 4, 9, 6, 3, 12, 9, 8, 2, 4]"
            ]
          },
          "metadata": {},
          "execution_count": 44
        }
      ]
    },
    {
      "cell_type": "code",
      "source": [
        "numeros[-2:]"
      ],
      "metadata": {
        "colab": {
          "base_uri": "https://localhost:8080/"
        },
        "id": "_YuhMGfrqiDA",
        "outputId": "38bde53a-d570-4847-881d-9516f595e304"
      },
      "execution_count": null,
      "outputs": [
        {
          "output_type": "execute_result",
          "data": {
            "text/plain": [
              "[12, 9]"
            ]
          },
          "metadata": {},
          "execution_count": 45
        }
      ]
    },
    {
      "cell_type": "code",
      "source": [
        "numeros[1:9:2]"
      ],
      "metadata": {
        "colab": {
          "base_uri": "https://localhost:8080/"
        },
        "id": "CBfQssCMqRpP",
        "outputId": "986e14eb-d709-4855-b86c-4e7d3f6f8a36"
      },
      "execution_count": null,
      "outputs": [
        {
          "output_type": "execute_result",
          "data": {
            "text/plain": [
              "[2, 9, 3, 9]"
            ]
          },
          "metadata": {},
          "execution_count": 43
        }
      ]
    },
    {
      "cell_type": "code",
      "source": [
        "## diccionarios\n",
        "personas ={'colombia':'juan', 'chile':'esteban','usa':'jhon','rusia':'sergio', 'usa':'brayan'}\n",
        "personas['peru']='Wendy'\n",
        "personas['canada']=['pit','bob', 'tom']\n",
        "personas ['canada'][-2]\n",
        "for k, v in personas.items():\n",
        "    print('pais',k,'\\tpersonas', v) ## iterar"
      ],
      "metadata": {
        "colab": {
          "base_uri": "https://localhost:8080/"
        },
        "id": "RfDn30Ytq-OA",
        "outputId": "d4204844-f96f-4ac1-8405-d10465bf1d59"
      },
      "execution_count": null,
      "outputs": [
        {
          "output_type": "stream",
          "name": "stdout",
          "text": [
            "pais colombia \tpersonas juan\n",
            "pais chile \tpersonas esteban\n",
            "pais usa \tpersonas brayan\n",
            "pais rusia \tpersonas sergio\n",
            "pais peru \tpersonas Wendy\n",
            "pais canada \tpersonas ['pit', 'bob', 'tom']\n"
          ]
        }
      ]
    },
    {
      "cell_type": "code",
      "source": [
        "A={'juan','jorge','ema','sara','sofia'}\n",
        "B= {'ana','hugo', 'ema','soe', 'maria' }\n",
        "A-B"
      ],
      "metadata": {
        "colab": {
          "base_uri": "https://localhost:8080/"
        },
        "id": "FjNWUCT9uEBv",
        "outputId": "28b111e7-cf39-4469-b838-89879b8f77c8"
      },
      "execution_count": null,
      "outputs": [
        {
          "output_type": "execute_result",
          "data": {
            "text/plain": [
              "{'jorge', 'juan', 'sara', 'sofia'}"
            ]
          },
          "metadata": {},
          "execution_count": 57
        }
      ]
    },
    {
      "cell_type": "markdown",
      "metadata": {
        "id": "qV74Ok3tzZQx"
      },
      "source": [
        "## Métodos para recorrer una lista\n",
        "> Existen varios métodos en python para recorrer una lista:\n",
        "1. Usando los índices mediante un ciclo _while_\n",
        "2. Usando los índices mediante un ciclo _for_\n",
        "3. Usar un ciclo _for_ con los elementos"
      ]
    },
    {
      "cell_type": "code",
      "metadata": {
        "id": "2WoR0wgi0MHg"
      },
      "source": [
        "# celda para probar"
      ],
      "execution_count": null,
      "outputs": []
    },
    {
      "cell_type": "markdown",
      "metadata": {
        "id": "qo92bdy5ixAz"
      },
      "source": [
        "####Ejercicio 1:\n",
        "suponga usted que tiene que ir a mercar y debe ir anotando el nombre de los productos y el respectivo precio de todo lo que quiere llevar. El propósito de esta actividad es saber cuanto debe pagar antes de llegar a la caja. Cada vez que usted ingrese un producto a su canasta, deberá anotar el nombre y el valor del producto. Una vez haya finalizado sus compras deberá conocer la cantidad de productos y el total a pagar. ¿Cómo piensa resolver el problema?"
      ]
    },
    {
      "cell_type": "code",
      "metadata": {
        "id": "GqsJ2rfCjMUw"
      },
      "source": [
        "# Solución del ejercicio 1.\n",
        "# inicialización de variables\n",
        "\n",
        "lst_val_prod = []\n",
        "lst_nom_prod = []\n",
        "total_prod = 0.0"
      ],
      "execution_count": null,
      "outputs": []
    },
    {
      "cell_type": "markdown",
      "metadata": {
        "id": "59Svj9ZljNx4"
      },
      "source": [
        "### 1.2 **Acceder a los elementos de una lista.**\n",
        ">El acceso a los elementos de la lista se realiza a través de sus índices. En python los índices de una lista van desde 0 hasta el tamaño de la lista -1. Por ejemplo de la siguiente lista se puede obtener acceso a los elementos 3, 4 y 6 de la siguiente forma:\n",
        "\n",
        "\n",
        "\n",
        "```python\n",
        "lst_anim = ['Perro', 'Gato', 'Pájaro', 'Conejo', 'Pez', 'Hamster', 'Tortuga']\n",
        "```\n",
        "> lst_anim |\\[| Perro | Gato | Pájaro | Conejo | Pez | Hamster | Tortuga | \\]\n",
        "> --- ||:---: | :---: | :---: | :---: | :---: | :---: | :---: | ---\n",
        "> índices |+| 0 | 1 | 2 | 3 | 4 | 5 | 6 |  |\n",
        "> índices |-| -7 | -6 | -5 | -4 | -3 | -2 | -1 |  |\n",
        "\n",
        "```python\n",
        "# Elemento: 3, índice del elemento: 2.\n",
        "print(lst_anim[2])\n",
        "# Elemento: 4, índice del elemento: 3.\n",
        "print(lst_anim[3])\n",
        "# Elemento: 6, índice del elemento: 5.\n",
        "print(lst_anim[5])\n",
        "```\n",
        ">También puede modificar el valor de alguno de los elementos de la siguiente forma:\n",
        "\n",
        "\n",
        "\n",
        "```python\n",
        "# Modificando el elemento 4 que tiene por índice 3.\n",
        "lst_anim[3] = 'Jirafa'\n",
        "print(lst_anim)\n",
        "```"
      ]
    },
    {
      "cell_type": "code",
      "metadata": {
        "id": "2viSoJoDjrAK"
      },
      "source": [
        "# celda de código para practicar"
      ],
      "execution_count": null,
      "outputs": []
    },
    {
      "cell_type": "markdown",
      "metadata": {
        "id": "4Bg6NhftmlVc"
      },
      "source": [
        "\n",
        "## __Funciones para listas__\n",
        "\n",
        "\n",
        "> - A continuación se listan otras funciones en python que son útiles para resolver problemas.\n",
        "    - remove()\n",
        "    - index()\n",
        "    - count()\n",
        "    - reverse()\n",
        "    - insert()\n",
        "    - pop()\n",
        "    - clear()\n",
        "\n",
        "\n",
        "## Pruebe las funciones!!\n",
        "> - Pruebe las siguientes línas de código en la plataforma de python tutor, y analice e interprete cómo afectan las funciones a la lista.\n",
        "\n",
        "```python\n",
        "\n",
        "lst_anim = ['Perro', 'Gato', 'Pájaro', 'Conejo', 'Pez', 'Hamster', 'Tortuga']\n",
        "print(lst_anim)\n",
        "# Remueve los elementos de la lista de acuerdo al argumento pasado a la función.\n",
        "lst_anim.remove('Pájaro')\n",
        "print(lst_anim)\n",
        "# Devuelve el número del indice del elemento que se pasa como argumento a la función.\n",
        "lst_anim.index('Conejo')\n",
        "# Devuelve la cantidad de veces que se repite el elemento que se pasa como argumento en la función.\n",
        "lst_anim.count('Pez')\n",
        "# Invierte el orden de los elementos de la lista.\n",
        "lst_anim.reverse()\n",
        "print(lst_anim)\n",
        "# Inserta un elemento en la posición inidicada. Lo argumentos para la función son el indice donde se quiere insertar y el elemento a insertar.\n",
        "lst_anim.insert(2,'Caballo')\n",
        "print(lst_anim)\n",
        "# Remueve el elemento de la lista que se pasa como argumento (índice del elemento) a la función. La función pop devuelve el elemento removido.\n",
        "anim = lst_anim.pop(2)\n",
        "print(anim)\n",
        "# Remueve todos los elementos de la lista.\n",
        "lst_anim.clear()\n",
        "print(lst_anim)\n",
        "```\n",
        "\n",
        "## Busqué ejemplos de uso para: `zip`, `in` y `sort`\n",
        "- Generar ciclos para recorrer listas (función zip)\n",
        "- Buscar un elemento en una lista (operador **in**)\n",
        "- Método sort()\n"
      ]
    },
    {
      "cell_type": "code",
      "metadata": {
        "id": "WX4xAocdyYVc",
        "colab": {
          "base_uri": "https://localhost:8080/"
        },
        "outputId": "6f527fff-257f-43c2-8e97-87c4646684d3"
      },
      "source": [
        "# Celda de código para probar\n",
        "lst_anim = ['Perro', 'Gato', 'Pájaro', 'Conejo', 'Pez', 'Hamster', 'Tortuga']\n",
        "print(lst_anim)"
      ],
      "execution_count": null,
      "outputs": [
        {
          "output_type": "stream",
          "text": [
            "['Perro', 'Gato', 'Pájaro', 'Conejo', 'Pez', 'Hamster', 'Tortuga']\n"
          ],
          "name": "stdout"
        }
      ]
    },
    {
      "cell_type": "markdown",
      "metadata": {
        "id": "TILFCrqBnZ-5"
      },
      "source": [
        "### Manipular sublistas.\n",
        "\n",
        ">En algunos casos al trabajar con listas para la resolución de problemas es necesario extraer partes de la lista original. Python ofrece esta posibilidad  con la siguiente estructura:\n",
        "\n",
        "```python\n",
        "  nom_lista[<indice inicio> : <indice final + 1>]\n",
        "\n",
        "```\n",
        ">**Ejemplos:**\n",
        "\n",
        "```python\n",
        "l1 = list(range(-20,20,2))\n",
        "print(l1)\n",
        "l2 = l1[2:8]   # Lista con los elementos del índice 2 hasta el 7\n",
        "print(l2)\n",
        "l2 = l1[1:]    # Lista con los elementos del índice 1 hasta el final de la lista\n",
        "print(l2)\n",
        "l2 = l1[:5]    # Lista con los elementos desde el inicio hasta el índice 4\n",
        "print(l2)\n",
        "l2 = l1[:]     # Lista con todos los elementos\n",
        "print(l2)\n",
        "l2 = l1[15:15] # Lista con los elementos del índice del 15 al 15 (vacía)\n",
        "print(l2)\n",
        "```"
      ]
    },
    {
      "cell_type": "code",
      "metadata": {
        "id": "n9FTFXG4Z1m-"
      },
      "source": [
        "# Celda de código para probar"
      ],
      "execution_count": null,
      "outputs": []
    },
    {
      "cell_type": "markdown",
      "metadata": {
        "id": "D-JfKNCCoNgS"
      },
      "source": [
        "### __Ejercicio__\n",
        "> Usted también puede modificar los elementos de una lista usando sublistas. Revise con cuidado cada una de las siguientes líneas de código, trate de predecir lo que va a suceder y valide cada uno de los comportamientos presentados. __utilice python tutor__. El insertar, modificar y eliminar sublistas también se hace a partir de los índices de los elementos de la lista.\n",
        "\n",
        "```python\n",
        "letras = ['a', 'b', 'c', 'd', 'e', 'f', 'g', 'h', 'i', 'k', 'l', 'm', 'ñ', 'o']\n",
        "print(letras)\n",
        "letras[1:4] = ['k']               # Se sustituye la sublista ['b', 'c', 'd'] por ['k'], solo reemplazara el elemento 1 de la lista\n",
        "print(letras)\n",
        "letras[1:4] = [1, 2]              # Se sustituye la sublista ['k', 'c' , 'd'] por [1, 2], reemplazará 2 elementos de la lista\n",
        "print(letras)\n",
        "letras[3:4] = [76]                # Se sustituye la sublista ['g'] por [76], reemplazará 1 elemento de lista\n",
        "print(letras)\n",
        "letras[6:6] = ['%', '&']          # Se inserta la sublista ['%', '&'] a partir de la posición 6 de la lista\n",
        "print(letras)\n",
        "letras[0:3] = []                  # Se elimina la sublista ['a', 1, 2] a partir de la posición 0 hasta la 2\n",
        "print(letras)\n",
        "letras[-100:-50] = ['q','a','z']  # Se inserta ['q','a','z']. Python acepta valores de índices fuera del rango. Para este caso se insertará la sublista al inicio\n",
        "print(letras)\n",
        "letras[120:140] = ['q','a','z']   # Se inserta ['q','a','z']. Python acepta valores de índices fuera del rango. Para este caso se insertará la sublista al final\n",
        "print(letras)\n",
        "del letras[10]                    # Borrará el elemento que tiene por índice 10 de la lista\n",
        "print(letras)\n",
        "del letras[8:]                    # Borrará los elementos a partir del índice 8 hasta el final de la lista\n",
        "print(letras)\n",
        "```\n",
        "\n"
      ]
    },
    {
      "cell_type": "code",
      "metadata": {
        "id": "SGnZ16cjZ3fj"
      },
      "source": [
        "# Celda de código para probar"
      ],
      "execution_count": null,
      "outputs": []
    },
    {
      "cell_type": "markdown",
      "metadata": {
        "id": "FqFMf6e8ozLi"
      },
      "source": [
        "---\n",
        "\n",
        "\n",
        ">## **Comprensión de listas.**\n",
        "\n",
        ">Las comprensiones de listas ofrecen una forma rápida y concisa para la creación de listas. Esto consiste en la codificación de una ***expresión*** seguida de la cláusula ***for*** a la cual se le puede añadir cláusulas ***if*** o ***for*** en caso de que sea requerido.\n",
        "\n",
        ">La comprensión de listas se destacan en python para crear nuevas listas. Cada elemento es el resultado de algunas operaciones aplicadas sobre la lista (secuencia u objeto iterable) a partir de una condición u otros ciclos.\n",
        "\n",
        ">La estructura básica de una comprensión de lista es:\n",
        "\n",
        "\n",
        "```\n",
        " lista = [expresion for elemento in objeto_iterable]\n",
        "```\n",
        "\n",
        "\n",
        "\n",
        ">La forma general de crear una lista con la estructura cíclica for es:\n",
        "\n",
        "\n",
        "\n",
        "```python\n",
        "# Lista de los números enteros del 1 al 10\n",
        "nums = []\n",
        "\n",
        "for i in range(1,11):\n",
        "  nums.append(i)\n",
        "print(nums)\n",
        "\n",
        "```\n",
        "\n",
        ">Usted podría realizar esto con una comprensión de listas. Ejemplo:\n",
        "\n",
        "\n",
        "```python\n",
        "nums = [num for num in range(1,11)]\n",
        "print(nums)\n",
        "```"
      ]
    },
    {
      "cell_type": "code",
      "metadata": {
        "id": "go5TB_9NZ_6u",
        "colab": {
          "base_uri": "https://localhost:8080/"
        },
        "outputId": "fab1f5b6-f219-4017-b477-9667c36644a0"
      },
      "source": [
        "# Celda de código para probar\n",
        "lista = [chr(i+95) for i  in range (1,11)] ## funcion que retorna una lista, se puede incluir cualquier operación logica\n",
        "lista"
      ],
      "execution_count": null,
      "outputs": [
        {
          "output_type": "execute_result",
          "data": {
            "text/plain": [
              "['`', 'a', 'b', 'c', 'd', 'e', 'f', 'g', 'h', 'i']"
            ]
          },
          "metadata": {},
          "execution_count": 8
        }
      ]
    },
    {
      "cell_type": "code",
      "metadata": {
        "id": "AwvtUpbEpA73",
        "colab": {
          "base_uri": "https://localhost:8080/",
          "height": 265
        },
        "outputId": "f33c473d-5583-4243-f232-c356e8688caa"
      },
      "source": [
        "import matplotlib.pyplot as plt\n",
        "listaX = []\n",
        "listaY = []\n",
        "for i in range(-20, 20):\n",
        "    x = i/10\n",
        "    listaX.append(x)\n",
        "    listaY.append(x**3)\n",
        "plt.plot(listaX, listaY)\n",
        "plt.grid()"
      ],
      "execution_count": null,
      "outputs": [
        {
          "output_type": "display_data",
          "data": {
            "image/png": "[encoded data removed]",
            "text/plain": [
              "<Figure size 432x288 with 1 Axes>"
            ]
          },
          "metadata": {
            "tags": [],
            "needs_background": "light"
          }
        }
      ]
    },
    {
      "cell_type": "code",
      "metadata": {
        "id": "xbjJ7CPIr-Pv",
        "colab": {
          "base_uri": "https://localhost:8080/",
          "height": 265
        },
        "outputId": "f4725958-f8d2-466e-dc35-c51598bf4d7b"
      },
      "source": [
        "lista1 = [i/10 for i in range(-20, 20)]\n",
        "lista2 = [x**3 for x in lista1]\n",
        "plt.plot(lista1, lista2)\n",
        "plt.grid()"
      ],
      "execution_count": null,
      "outputs": [
        {
          "output_type": "display_data",
          "data": {
            "image/png": "[encoded data removed]",
            "text/plain": [
              "<Figure size 432x288 with 1 Axes>"
            ]
          },
          "metadata": {
            "tags": [],
            "needs_background": "light"
          }
        }
      ]
    },
    {
      "cell_type": "markdown",
      "source": [
        "### __Ejercicio:__ modifique el ejercicio para que pinte una función diferente"
      ],
      "metadata": {
        "id": "spLiwMsXsBH-"
      }
    },
    {
      "cell_type": "markdown",
      "metadata": {
        "id": "7PQQAm0bpBO6"
      },
      "source": [
        "### Comprensión de listas con estructuras condicionales.\n",
        ">Ahora analice los siguientes ejemplos que estan construidos a partir de comprensión de listas. Interprete y documente el código que se muestra para cada ejemplo indicando que hace cada instrucción.\n",
        "\n",
        "\n",
        "\n",
        "```python\n",
        "# Pruebe una por una las instrucciones en esta celda.\n",
        "nums = list(range(-10,10))\n",
        "num_txt = ['uno', 'dos', 'tres', 'cuatro', 'cinco', 'seis', 'siete', 'ocho', 'nueve', 'diez']\n",
        "# Comprensión de listas\n",
        "l1 = [n**2 for n in nums]\n",
        "print(l1)\n",
        "# Comprensión de listas con funciones de python\n",
        "vocales = [v.lower() for v in ['A','E','I','O','U']]\n",
        "l2 = [abs(n) for n in nums]\n",
        "print(l2)\n",
        "# Comprensión de listas con if\n",
        "l3 = [n**2 for n in nums if n%2==0]\n",
        "print(l3)\n",
        "# Comprensión de listas con if y else\n",
        "texto = 'El almuerzo suelo acompañarlo con 3 manzanas y 10 peras'\n",
        "texto2 = [txt if not txt.isnumeric() else num_txt[int(txt)-1] for txt in texto.split(' ')]\n",
        "print(texto2)\n",
        "string = \" \"\n",
        "texto3 = string.join(texto2)\n",
        "print(texto3)\n",
        "# Comprensión de listas con multiple if\n",
        "modulo = [x for x in range(100) if x % 2 == 0 if x % 5 == 0]\n",
        "print(modulo)\n",
        "```\n",
        "\n"
      ]
    },
    {
      "cell_type": "markdown",
      "metadata": {
        "id": "juVp7gzHqZdP"
      },
      "source": [
        "# __Otras estructuras de datos__\n",
        "\n",
        "- ## Tuplas\n",
        "- ## Conjuntos\n",
        "- ## Diccionarios\n",
        "\n",
        "## __Revisión de información en la WEB__\n",
        "\n",
        "Finalmente seguir la guía de [Estructuras de datos en Python Docs](https://docs.python.org/3/tutorial/datastructures.html)"
      ]
    },
    {
      "cell_type": "markdown",
      "metadata": {
        "id": "GIuFEJXuoJTO"
      },
      "source": [
        "## __Ejemplo:__ Análisis del problema del cálculo de la moda\n",
        "\n",
        "__Definición de moda estadística__\n",
        "\n",
        "La moda es el valor que tiene mayor frecuencia absoluta en una muestra de datos, y se representa como: $M_o$. Se puede hallar la moda para variables cualitativas y cuantitativas. Las siguientes son las reglas que se asocian al cálculo de la moda:\n",
        "\n",
        "- Si en un grupo hay dos o varias puntuaciones con la misma frecuencia y esa frecuencia es la máxima, entonces la distribución es bimodal  (en caso de que sean 2 valores) o multimodal (en caso de que existan mas de 2), es decir, tiene varias modas.\n",
        "- Cuando todas las puntuaciones de un grupo tienen la misma frecuencia, no hay moda.\n",
        "- Si dos puntuaciones adyacentes tienen la frecuencia máxima, la moda es el promedio de las dos puntuaciones adyacentes.\n",
        "\n",
        "Fuente de información: [moda estadística](https://www.superprof.es/apuntes/escolar/matematicas/estadistica/descriptiva/moda-estadistica.html)\n",
        "\n",
        "## __Ejemplos:__\n",
        "1. La moda de : `ex1 = [2,3,3,4,4,4,5,5]` <br> es: $M_o = 4$\n",
        "1. La moda de : `ex2 = [1,1,1,4,4,5,5,5,7,8,9,9,9]` <br> es: $M_o = 1,5,9$\n",
        "1. La moda de : `ex3 = [2,2,3,3,6,6,9,9]` <br> es: $M_o = indef$\n",
        "1. La moda de : `ex4 = [0,1,3,3,5,5,7,8]` <br> es: $M_o = 4$\n",
        "\n",
        "## __Algoritmo moda de valores__\n",
        "\n",
        "- ordenar el vector $x$\n",
        "- recorrer cada elemento de $x$  \n",
        "    - si el valor esta en vals obtener índice y sumar uno a esa posición\n",
        "    - sino el valor es nuevo entonces, agregar valor a vals y poner su frecuencia en uno\n",
        "- hallar la máxima frecuencia\n",
        "- contar veces que aparece la máxima frecuencia\n",
        "- Si la cantidad de máxima frecuencia es uno, retorne el valor con el índice de máxima frecuencia\n",
        "- Si la cantidad de máximas frecuencias es N, retorne no es un número\n",
        "- Si la cantidad de máximas frecuencias es 2 y son adyacentes, retorne el promedio de los valores adyacentes con máxima frecuencia\n",
        "- Sino retorne un vector con los valores que tienen máxima frecuencia\n"
      ]
    },
    {
      "cell_type": "markdown",
      "metadata": {
        "id": "ajJe5rWqCU1N"
      },
      "source": [
        "\n",
        "# __Procesamiento de Cadenas de caracteres__\n",
        "\n",
        "Las cadenas de caracteres (strings) son un tipo de dato especial en los diferentes lenguajes de programación, y en _python_ no es la excepción. Las caracteristicas de una cadena de caracteres son las siguientes:\n",
        "- Funcionan como un arreglo, en donde cada caracter es un elemento del arreglo, y la longitud de una cadena no es fija.\n",
        "- El primer caracter está en la posición cero\n",
        "- Dependiendo de su contenido se pueden convertir a otros tipos de datos, por ejemplo números enteros y reales, fechas, y valores lógicos.\n",
        "- Permite representar archivos, enlaces, entidades, personas, categorías, etc\n",
        "- Se pueden definir variables de cadena usando comillas dobles o sencillas\n",
        "- Las cadenas además de visualizar caracteres alpha-numéricos, signos, operadores, emojis, etc, también pueden representar caracteres especiales que no se muestran, como por ejemplo: fin de línea (\\n), tabulador (\\t), entre otros\n",
        "\n",
        "## Operaciones básicas\n",
        "\n",
        "Las cadenas pueden ser vacias, tener solo un caracter o ser tan largas como se pueda. Para definir cadenas en python es lo mismo usar comillas dobles o sencillas\n",
        "\n",
        "\n",
        "```python\n",
        "cad0 = ''                 # cadena vacia\n",
        "cad1 = 'Hola, mundo'      # definición con comilla sencilla\n",
        "cad2 = \"Hello, world\"     # definición con comilla doble\n",
        "cad3 = '''\n",
        "Esto es una cadena de\n",
        "caracteres de multiples\n",
        "líneas de texto\n",
        "'''                       # definición de una cadena multilineas\n",
        "print(cad0)\n",
        "print(cad1)\n",
        "print(cad2)\n",
        "print(cad3)\n",
        "```\n",
        "\n",
        "\n"
      ]
    },
    {
      "cell_type": "code",
      "metadata": {
        "id": "P3KMagPJs3-y"
      },
      "source": [
        "# Pruebe el código en esta celda"
      ],
      "execution_count": null,
      "outputs": []
    },
    {
      "cell_type": "markdown",
      "metadata": {
        "id": "8RBXgQJ396gZ"
      },
      "source": [
        "\n",
        "### Ejemplo de Cadenas crudas y unicode\n",
        "Observe el comportamiento de las siguientes líneas y concluya cual es la diferencia\n",
        "\n",
        "```python\n",
        "cad4 = \"C:\\\\User\\fulanito\\taller.ipynb\"\n",
        "print(cad4)\n",
        "cad5 = r\"C:\\\\User\\fulanito\\taller.ipynb\"\n",
        "print(cad5)\n",
        "cad6 = u\"C:\\\\User\\fulanito\\taller.ipynb\"\n",
        "print(cad6)\n",
        "```\n",
        "\n",
        "\n"
      ]
    },
    {
      "cell_type": "code",
      "metadata": {
        "id": "DIxtduzV94hl"
      },
      "source": [
        "# Pruebe el código en esta celda"
      ],
      "execution_count": null,
      "outputs": []
    },
    {
      "cell_type": "markdown",
      "metadata": {
        "id": "zgIRzjccs8D_"
      },
      "source": [
        "### Procesamiento de cadenas como arreglos\n",
        "\n",
        "Efectivamente, las cadenas de texto funcionan de manera similar a los arreglos o listas:\n",
        "\n",
        "\n",
        "\n",
        "```python\n",
        "print('Tamaño cadena:    ', len(cad1))     \n",
        "print('Primer caracter:  ', cad1[0])\n",
        "print('Último caracter: ', cad1[-1])\n",
        "print('El resto sería:   ', cad1[1:-1])\n",
        "\n",
        "# Extraer cualquier subcadena a otra variable\n",
        "tmp = cad[4:10]\n",
        "print('Subcadena [4,10]: ', tmp)\n",
        "\n",
        "# NO ES POSIBLE cambiar elementos directamente\n",
        "cad1[0] = 'h'       # error\n",
        "cad1[1:5] = 'news'  # error\n",
        "```\n",
        "\n"
      ]
    },
    {
      "cell_type": "code",
      "metadata": {
        "id": "pYmMyblss7Ic"
      },
      "source": [
        "# Pruebe el código en esta celda"
      ],
      "execution_count": null,
      "outputs": []
    },
    {
      "cell_type": "markdown",
      "metadata": {
        "id": "ECPbZjEQ5qaG"
      },
      "source": [
        "### Recorrido y existencia como arreglo:\n",
        "\n",
        "También es posible verficar la existencia de una sub-cadena o caracter dentro de una cadena con el operador __in__\n",
        "\n",
        "Prube una a una:\n",
        "```python\n",
        "'ola' in cad1\n",
        "',' in cad1\n",
        "```\n",
        "El recorrido como si fuera un vector de elementos usando __for__\n",
        "\n",
        "```python\n",
        "for c in cad1:\n",
        "    print('-->', c)\n",
        "```\n",
        "Usando __enumerate__\n",
        "\n",
        "```python\n",
        "# muestra el índice de cada caracter\n",
        "for i, c in enumerate(cad1):\n",
        "    print(i, '-->', c)\n",
        "```\n",
        "\n",
        "\n",
        "\n",
        "\n",
        "\n",
        "\n"
      ]
    },
    {
      "cell_type": "code",
      "metadata": {
        "id": "bi0QFdTa5ngc",
        "colab": {
          "base_uri": "https://localhost:8080/",
          "height": 176
        },
        "outputId": "273feea2-0211-4238-a5a3-7d657ca592b3"
      },
      "source": [
        "# Pruebe el código en esta celda\n"
      ],
      "execution_count": null,
      "outputs": [
        {
          "output_type": "error",
          "ename": "NameError",
          "evalue": "name 'cad1' is not defined",
          "traceback": [
            "\u001b[0;31m---------------------------------------------------------------------------\u001b[0m",
            "\u001b[0;31mNameError\u001b[0m                                 Traceback (most recent call last)",
            "\u001b[0;32m<ipython-input-3-a7587d9d9ba8>\u001b[0m in \u001b[0;36m<cell line: 2>\u001b[0;34m()\u001b[0m\n\u001b[1;32m      1\u001b[0m \u001b[0;31m# Pruebe el código en esta celda\u001b[0m\u001b[0;34m\u001b[0m\u001b[0;34m\u001b[0m\u001b[0m\n\u001b[0;32m----> 2\u001b[0;31m \u001b[0;32mfor\u001b[0m \u001b[0mi\u001b[0m\u001b[0;34m,\u001b[0m \u001b[0mc\u001b[0m \u001b[0;32min\u001b[0m \u001b[0menumerate\u001b[0m\u001b[0;34m(\u001b[0m\u001b[0mcad1\u001b[0m\u001b[0;34m)\u001b[0m\u001b[0;34m:\u001b[0m\u001b[0;34m\u001b[0m\u001b[0;34m\u001b[0m\u001b[0m\n\u001b[0m\u001b[1;32m      3\u001b[0m     \u001b[0mprint\u001b[0m\u001b[0;34m(\u001b[0m\u001b[0mi\u001b[0m\u001b[0;34m,\u001b[0m \u001b[0;34m'-->'\u001b[0m\u001b[0;34m,\u001b[0m \u001b[0mc\u001b[0m\u001b[0;34m)\u001b[0m\u001b[0;34m\u001b[0m\u001b[0;34m\u001b[0m\u001b[0m\n",
            "\u001b[0;31mNameError\u001b[0m: name 'cad1' is not defined"
          ]
        }
      ]
    },
    {
      "cell_type": "markdown",
      "metadata": {
        "id": "eeo0Memzs6Ve"
      },
      "source": [
        "### Concatenar\n",
        "\n",
        "* Para concatenar se usa el operador +\n",
        "* Para generar múltiples copias de la cadena se usa el operador *\n",
        "\n",
        "\n",
        "```python\n",
        "str1 = \"analítica\"\n",
        "str2 = 'datos'\n",
        "str3 = str1 + ' de ' + str2            # operación de concatenar\n",
        "print('Cadena: ', len(str3), str3)     # imprimir tamaño y cadena\n",
        "print('Multiplicar: ', str1*5)         # operación de multiplicar\n",
        "print('Combinar: ', (str1+' ')*5)      # combinar para mejorar el resultado\n",
        "```\n",
        "Para concatenar otros tipos de datos a una cadena se tienen dos formas\n",
        "\n",
        "```python\n",
        "entero = 34\n",
        "real = 146.38\n",
        "s1 = 'el valor: ' + str(entero) + ' es: ' + str(real)\n",
        "print(s1)\n",
        "s2 = 'el valor: %d es: %f' %(entero, real)\n",
        "print(s2)\n",
        "\n",
        "```\n",
        "\n",
        "\n"
      ]
    },
    {
      "cell_type": "code",
      "metadata": {
        "id": "xlvEEToR6cLV"
      },
      "source": [
        "# Pruebe el código en esta celda"
      ],
      "execution_count": null,
      "outputs": []
    },
    {
      "cell_type": "markdown",
      "metadata": {
        "id": "9kx8bcOSA8R6"
      },
      "source": [
        "### Partir y unir una cadena\n",
        "\n",
        "Las funciones de __split__ y __join__ parten y unen una cadena respectivamente\n",
        "\n",
        "\n",
        "```python\n",
        "str1 = 'porque como poco coco como, poco coco compro'\n",
        "lst1 = str1.split(' ')                # partir cadena usando el caracter espacio\n",
        "print('lista1:', lst1)\n",
        "lst2 = str1.split(',')                # partir cadena usando el caracter espacio\n",
        "print('lista2:', lst2)\n",
        "str2 = ''.join(lst1)                  # función para unir a partir de un vector\n",
        "print(str2)\n",
        "\n",
        "```\n",
        "__nota:__\n",
        "Vuelva a generar una cadena a partir del vector, pero con espacios\n",
        "\n"
      ]
    },
    {
      "cell_type": "code",
      "metadata": {
        "id": "IYPQ2oPvA7r8",
        "colab": {
          "base_uri": "https://localhost:8080/"
        },
        "outputId": "cd90b648-7fb1-4797-da20-8cbd1f02187f"
      },
      "source": [
        "# Pruebe el código en esta celda"
      ],
      "execution_count": null,
      "outputs": [
        {
          "output_type": "stream",
          "name": "stdout",
          "text": [
            "['8', '9', '1', '2', '7', '38', '9', '4', '6', '8', '92', '6', '3', '89', '7', '46']\n"
          ]
        },
        {
          "output_type": "execute_result",
          "data": {
            "text/plain": [
              "(list, 16, [8, 9, 1, 2, 7, 38, 9, 4, 6, 8, 92, 6, 3, 89, 7, 46])"
            ]
          },
          "metadata": {},
          "execution_count": 25
        }
      ]
    },
    {
      "cell_type": "markdown",
      "metadata": {
        "id": "C6XUbHUlD4Qb"
      },
      "source": [
        "### Otro ejemplo de unir cadenas\n",
        "\n",
        "Utilizando la función __join()__ y la técnica de listas por comprensión\n",
        "\n",
        "```python\n",
        "str3 = ''.join(e+' ' for e in lst1)  # unir la cadena poniendo un espacio\n",
        "print(len(str1), str1)             \n",
        "print(len(str3), str3)\n",
        "print(str1 == str3)                 # comparar las dos cadenas\n",
        "```\n",
        "¿por qué no da igual?\n"
      ]
    },
    {
      "cell_type": "code",
      "metadata": {
        "id": "wSaf_hmXChcm"
      },
      "source": [
        "# Pruebe el código en esta celda"
      ],
      "execution_count": null,
      "outputs": []
    },
    {
      "cell_type": "markdown",
      "metadata": {
        "id": "Oe4QjFhCFSLN"
      },
      "source": [
        "### __Ejemplo:__ Gráfica de la longitud de las palabras\n",
        "\n",
        "Suponga que se quiere procesar una cadena para producir una gráfica de la longitud de las palabras que contiene. El siguiente código resuelve el problema, observe cada línea con cuidado e interprete su funcionamiento.\n",
        "\n",
        "```python\n",
        "lpal = [len(s) for s in str1.split(' ')]\n",
        "print(str1)\n",
        "print('longitud palabras: ', lpal)\n",
        "\n",
        "#generar el gráfico usando matplotlib\n",
        "import matplotlib.pyplot as plt\n",
        "# plot bar recibe valores de x, y\n",
        "plt.bar(list(range(len(lpal))), lpal)\n",
        "# cambia las etiquetas del eje X\n",
        "plt.xticks(list(range(len(lpal))), lst1)\n",
        "plt.xlabel('Palabras')\n",
        "plt.ylabel('Cantidad de letras')\n",
        "plt.title('TAMAÑO DE LAS PALABRAS')\n",
        "plt.grid()\n",
        "```\n",
        "\n",
        "### __Ejercicio:__\n",
        "\n",
        "Escriba una función que reciba una cadena de texto y que muestre una gráfica con el tamaño de las palabras\n",
        "\n"
      ]
    },
    {
      "cell_type": "code",
      "metadata": {
        "id": "RAm7ALjiFvEo"
      },
      "source": [
        "# Pruebe el código en esta celda"
      ],
      "execution_count": null,
      "outputs": []
    },
    {
      "cell_type": "markdown",
      "metadata": {
        "id": "mewx4IsV6fC1"
      },
      "source": [
        "### __Buscar y reemplazar__\n",
        "\n",
        "\n",
        "```python\n",
        "# str1 viene de una celda de código de arriba\n",
        "print(str1.find('co'), str1)   # buscar la cadena 'co' en la frase\n",
        "\n",
        "# encontrar todas las ocurrencias de 'co' y ponerlas en un arreglo\n",
        "x = str1.find('co')\n",
        "ind = []\n",
        "while x != -1:\n",
        "    ind.append(x)\n",
        "    x = str1.find('co', x+1)   # se busca a partir del x+1 uno después del anterior\n",
        "print(ind)                     # imprime todos los índices donde aparece 'co'\n",
        "\n",
        "#verificamos la cuenta de 'co' en la frase\n",
        "print('Cuenta \"co\":', str1.count('co'))\n",
        "\n",
        "# ahora la idea es reemplazar 'co' por 'COS'\n",
        "str2 = str1.replace('co', 'COS')\n",
        "# que pasa si se busca y no hay ocurrencias?\n",
        "print(str2.find('de'), str2)\n",
        "\n",
        "```\n",
        "\n",
        ">>> !! _Pruebe el código paso a paso en python tutor_ !!\n",
        "\n",
        "\n"
      ]
    },
    {
      "cell_type": "code",
      "metadata": {
        "id": "ecGLfJtE5rqR"
      },
      "source": [
        "# Pruebe el código en esta celda"
      ],
      "execution_count": null,
      "outputs": []
    },
    {
      "cell_type": "markdown",
      "metadata": {
        "id": "w2IR1RJyLDdi"
      },
      "source": [
        "#### Ejemplo 4. Detectar un subconjunto de caracteres\n",
        "\n",
        "Supongamos que tenemos la siguiente frase\n",
        "\n",
        "\n",
        "```python\n",
        "str1 = 'TOMÁS de niño, pidió públicamente perdón, disculpándose después muchísimo más Íntimamente.'\n",
        "```\n",
        "\n",
        "Ahora queremos buscar y reemplazar todos los caracteres especiales propios del español que están en el siguiente _string_\n",
        "\n",
        "\n",
        "```python\n",
        "stildes = 'áéíóúñÁÉÍÓÚÑ'\n",
        "```\n",
        "Se quiere contar cuántos caracteres de la segunda cadena hay en la primera\n",
        "\n",
        "\n",
        "\n",
        "```python\n",
        "str2 = ''.join('&' if c in stildes else c for c in str1)\n",
        "print(str2)\n",
        "```\n",
        "Ahora piense en otra forma de resolver el ejemplo anterior.\n",
        "\n",
        "\n",
        "\n"
      ]
    },
    {
      "cell_type": "code",
      "metadata": {
        "id": "uHfv7POjJyEm"
      },
      "source": [
        "# Pruebe el código en esta celda"
      ],
      "execution_count": null,
      "outputs": []
    },
    {
      "cell_type": "markdown",
      "metadata": {
        "id": "8ZxQTU-aVeDC"
      },
      "source": [
        "## __Ejercicio 1__\n",
        "\n",
        "Suponga que necesitamos una función, a la cual se le pasa una cadena texto, en donde se requiere que se cambie todos los caracteres espaciales que aparecen en una cadena por otros que los van a reemplazar. La función recibe:\n",
        "1. la cadena de texto a procesar,\n",
        "2. la cadena de caracteres especiales que queremos reemplazar\n",
        "3. la cadena de caracteres que van a reemplazar a los especiales\n",
        "\n",
        "La función retorna la primera cadena donde se cambia los caracteres especiales por los de reemplazo.\n",
        "\n",
        "_Ejemplo:_ si la función se llama reemplazo y se llama así:\n",
        "\n",
        "`reemplazo('Sí són éstos es fácil', 'áéíóú', 'aeiou')`\n",
        "\n",
        "retorna\n",
        "\n",
        "`Si son estos es facil`\n",
        "\n"
      ]
    },
    {
      "cell_type": "code",
      "metadata": {
        "id": "BLcM15USRH7c"
      },
      "source": [
        "# desarrollar el ejercicio en esta celda"
      ],
      "execution_count": null,
      "outputs": []
    },
    {
      "cell_type": "markdown",
      "metadata": {
        "id": "ZIv90jYgn-yh"
      },
      "source": [
        "### __Solución 1__\n",
        "\n",
        "Es importante que intente resolver el ejercicio por su cuenta. Una vez resuleto el ejercicio anterior, compare la solución propia frente a la solución que se propone a continuación usando listas por comprensión:\n",
        "\n",
        "\n",
        "\n",
        "```python\n",
        "def replaceSPA(cad, esp, rem):\n",
        "    s2 = ''.join(rem[esp.find(c)] if c in esp else c for c in cad)\n",
        "    return s2\n",
        "# ejemplo de uso\n",
        "ssym  = 'áéíóúüñÁÉÍÓÚÜÑ'\n",
        "srep  = 'aeiouunAEIOUUN'\n",
        "str1 = 'Angélica y María estudian Lingüística para NIÑOS'\n",
        "\n",
        "print(replaceSPA(str1, ssym, srep))\n",
        "```\n",
        "\n"
      ]
    },
    {
      "cell_type": "markdown",
      "metadata": {
        "id": "vgB9iWtJkKHU"
      },
      "source": [
        "### Leer archivos de texto\n",
        "\n",
        "Los archivos de tipo texto se pueden leer en python de varias formas, por ejemplo\n",
        "* De un solo golpe, es decir, todo el texto,\n",
        "* Línea por línea, o\n",
        "* Una cantidad fija de caracteres\n",
        "\n",
        "Para esto, lo primero es crear un variable de tipo archivo con la ruta y nombre del archivo de texto. luego se puede leer de las formas descritas arriba.\n",
        "\n",
        "Antes de arrancar se debe crear el archivo: __`archivoTexto.txt`__\n",
        "\n",
        "#### Ejemplo 1: leer archivo de un solo golpe\n",
        "\n",
        "```python\n",
        "# abre archivo de texto en modo lectura y lo asigna a la variable 'pfile1'\n",
        "pfile1 = open('archivoTexto.txt', 'r')\n",
        "texto = pfile1.read()                  # lee todo el archivo completo\n",
        "print('tamaño total:', len(texto))     # imprime el tamaño del texto leido\n",
        "print('Texto del arhivo:\\n', texto)    # imprime el contenido del archivo\n",
        "pfile1.close()                         # cerrar el archivo\n",
        "```\n",
        "> Para poder ejecutar este ejemplo debe tener un archivo en la ruta actual del notebook con el nombre archivoTexto.txt. Aunque también puede cambiar el código para poner otra ruta y otro nombre de archivo que sea válido.\n"
      ]
    },
    {
      "cell_type": "code",
      "metadata": {
        "id": "pDuWrGsiiORV"
      },
      "source": [
        "# Pruebe el código en esta celda"
      ],
      "execution_count": null,
      "outputs": []
    },
    {
      "cell_type": "markdown",
      "metadata": {
        "id": "P5r5Dl47mfsL"
      },
      "source": [
        "#### __Ejemplo 2__\n",
        "\n",
        "Leer archivo de texto línea por línea\n",
        "\n",
        "\n",
        "```python\n",
        "# abre archivo de texto en modo lectura y lo asigna a la variable 'pfile2'\n",
        "pfile2 = open('archivoTexto.txt', 'r')\n",
        "for linea in pfile2:         # iterar por cada una de las líneas del archivo\n",
        "    print('--', linea)             # hacer algo con la línea... imprimirla\n",
        "pfile2.close()               # cerrar el archivo\n",
        "```\n",
        "> Para poder ejecutar este ejemplo debe tener un archivo en la ruta actual del notebook con el nombre archivoTexto.txt. Aunque también puede cambiar el código para poner otra ruta y otro nombre de archivo que sea válido.\n"
      ]
    },
    {
      "cell_type": "code",
      "metadata": {
        "id": "fCUfG49riPN8"
      },
      "source": [
        "# Pruebe el código en esta celda"
      ],
      "execution_count": null,
      "outputs": []
    },
    {
      "cell_type": "markdown",
      "metadata": {
        "id": "Q_Teib0tyy2w"
      },
      "source": [
        "#### __Ejemplo 3__\n",
        "Leer archivo de texto un tamaño fijo cada vez\n",
        "\n",
        "\n",
        "```python\n",
        "# abre archivo de texto en modo lectura y lo asigna a la variable 'pfile3'\n",
        "pfile3 = open('archivoTexto.txt', 'r')\n",
        "dato = pfile3.read(20)          # lee 20 caracteres (incluidos caracteres especiales)\n",
        "print(dato)\n",
        "\n",
        "```\n",
        "Cómo se sabe cuál es el tamaño de un archivo {__seek, tell__}\n",
        "\n",
        "```python\n",
        "pfile3.seek(0,2)                # moverse a el final del archivo\n",
        "size = pfile3.tell()            # leer la posición actual del archivo, es decir el tamaño\n",
        "print('El tamaño del archivo es:', size)\n",
        "```\n",
        "¿Cómo leer los últimos n caracteres de un archivo?\n",
        "\n",
        "```\n",
        "pfile3.seek(size-20,0)          # moverse a el final del archivo\n",
        "dato = pfile3.read(20)          # leer los últimos 20 caracteres del archivo\n",
        "print(size, dato)\n",
        "pfile3.close()                  # cerrar el archivo\n",
        "```\n",
        "> Para poder ejecutar este ejemplo debe tener un archivo en la ruta actual del notebook con el nombre archivoTexto.txt. Aunque también puede cambiar el código para poner otra ruta y otro nombre de archivo que sea válido.\n"
      ]
    },
    {
      "cell_type": "code",
      "metadata": {
        "id": "ijAyoo4gdSQL"
      },
      "source": [
        "# Pruebe el código en esta celda"
      ],
      "execution_count": null,
      "outputs": []
    },
    {
      "cell_type": "markdown",
      "metadata": {
        "id": "uwEN6UVTiYKE"
      },
      "source": [
        "## **Introducción a Minería de texto en _python_**\n",
        "\n",
        "Los siguientes ejemplos se utilizan en el contexto de procesamiento de cadenas de texto. Como siempre, la idea es probar las líneas de código una por una, hacerle modificaciones y seguir probando, y seguir aprendiendo.\n",
        "\n",
        "```python\n",
        "texto1 = 'El Infierno está lleno de buenas intenciones y el Cielo de buenas obras'\n",
        "# filtrar las palabras con más de 3 letras\n",
        "lst1 = texto1.split()\n",
        "w = []\n",
        "for word in lst1:\n",
        "    if len(word) > 5:\n",
        "        w.append(word)\n",
        "print(w)\n",
        "```\n",
        "Uso de la técnica de comprensión y las funciones __istitle() y endswith()__\n",
        "```python\n",
        "# 1. filtrar las palabras con más de 3 letras\n",
        "w = [word for word in texto1.split() if len(word) > 5]\n",
        "print(w)\n",
        "\n",
        "# 2. filtrar las palabras que inician en mayúscula\n",
        "w1 = [word for word in texto1.split() if word.istitle()]\n",
        "print(w1)\n",
        "\n",
        "# 3. filtrar las palabras que terminan en 's'\n",
        "w2 = [word for word in texto1.split() if word.endswith('s')]\n",
        "print(w2)\n",
        "\n",
        "```\n",
        "\n"
      ]
    },
    {
      "cell_type": "code",
      "metadata": {
        "id": "80vJ0kO8C0Bd"
      },
      "source": [
        "# Pruebe el código en esta celda"
      ],
      "execution_count": null,
      "outputs": []
    },
    {
      "cell_type": "markdown",
      "metadata": {
        "id": "81_bG01Tk1Nm"
      },
      "source": [
        "### Encontrar palabras únicas usando set()\n",
        "\n",
        "```python\n",
        "text3 = 'To be or not to be'\n",
        "text4 = text3.split(' ')\n",
        "print(text4)\n",
        "print(len(text4))\n",
        "\n",
        "w3 = set(text4)\n",
        "print(w3)\n",
        "print(len(w3))\n",
        "\n",
        "w4 = set([word.lower() for word in text4])\n",
        "print(w4)\n",
        "\n",
        "```\n"
      ]
    },
    {
      "cell_type": "code",
      "metadata": {
        "id": "iKE_glzPC2f9"
      },
      "source": [
        "# Pruebe el código en esta celda"
      ],
      "execution_count": null,
      "outputs": []
    },
    {
      "cell_type": "markdown",
      "metadata": {
        "id": "ybn2Fn08k4gk"
      },
      "source": [
        "### Resumen de Funciones para preguntar sobre el contenido del texto\n",
        "\n",
        "```python\n",
        "a = '1 o 5 the note of this course'\n",
        "# Verificar si la cadena inicia con un patrón\n",
        "a.startswith('1')\n",
        "# Verificar si la cadena termina con un patrón\n",
        "a.endswith('5')\n",
        "# Verificar si la cadena tiene un 'valor'\n",
        "'o' in a\n",
        "# Verificar si la cadena esta en mayúscula\n",
        "a.isupper()\n",
        "# Verificar si la cadena está en minúscula\n",
        "a.islower()\n",
        "# Verificar si la cadena esta en forma de Título\n",
        "a.istitle()\n",
        "# Verificar si la cadena está compuesta por solo caracteres\n",
        "a.isalpha()\n",
        "# Verificar si la cadena es de caracteres numéricos\n",
        "a.isdigit()\n",
        "# Verificar si la cadena se compone solo de caracteres alfa-numéricos\n",
        "a.isalnum()\n",
        "```"
      ]
    },
    {
      "cell_type": "code",
      "metadata": {
        "id": "gtyyrFqMC3sl"
      },
      "source": [
        "# Pruebe el código en esta celda"
      ],
      "execution_count": null,
      "outputs": []
    },
    {
      "cell_type": "markdown",
      "metadata": {
        "id": "6foe5Pr3Ghxd"
      },
      "source": [
        "## __Ejercicio 2__\n",
        "\n",
        "Hay ciertas operaciones de verificación y de análisis del que se suelen usar. Resolver para los siguientes requerimientos:\n",
        "- Verificar si una cadena que representa el nombre de un archivo finaliza con la extensión \"pdf\". Ej: `nom = 'C:\\\\trabajo1.pdf'`\n",
        "- Verificar si una cadena que representa el correo de alguien está en minúscula. Ej: `correo = 'jvictorinog@ucentral.edu.co'`\n",
        "- Verficar si una cadena que representa un número solo tiene caracteres numéricos y por tanto se puede convertir a numérico sin problema. Ej: `x = \"18416\"`, `y = \"-707\"`, `z = \"-3.1416\"`\n",
        "- Verficar si una cadena que representa una frase está límpia de caracteres especiales, es decir que solo tiene caracteres alfanuméricos. Ej: `desc = \"El dólar se cotizó 4185, el máximo histórico`\n",
        "\n",
        "\n",
        "\n"
      ]
    },
    {
      "cell_type": "code",
      "metadata": {
        "id": "w1s0V5OfKYMX"
      },
      "source": [
        "# Pruebe el código en esta celda"
      ],
      "execution_count": null,
      "outputs": []
    },
    {
      "cell_type": "markdown",
      "metadata": {
        "id": "HRZJl3csqPGF"
      },
      "source": [
        "### __Solución 2__\n",
        "\n",
        "Antes de revisar la solución propuesta, resuelva el ejercicio anterior. Una vez resuelto, compare su solución frente a la propuesta.\n",
        "\n",
        "\n",
        "```python\n",
        "nom = 'C:\\\\trabajo1.pdf'\n",
        "ext = nom[-3:]\n",
        "print(ext)\n",
        "print(nom.endswith('pdf'))\n",
        "\n",
        "correo = 'jvictorinog@ucentral.edu.co'\n",
        "ind = correo.find('@')\n",
        "print('@' in correo)\n",
        "q = correo.count('@')\n",
        "print(ind, q, correo[ind])\n",
        "```\n",
        "\n"
      ]
    },
    {
      "cell_type": "markdown",
      "metadata": {
        "id": "IOvu6ykxk4d9"
      },
      "source": [
        "### Resumen de funciones que operan con cadenas\n",
        "\n",
        "```python\n",
        "b = '11111Sitting in on lectures: In general we are happy for guests to sit-in on lectures if they are a member of the Stanford community (registered student, staff, and/or faculty). \\n If the class is too full and we are running out of space, we ask that you please allow registered students to attend. Due to high enrollment, we cannot grade the work of any students who are not officially enrolled in the class.111'\n",
        "\n",
        "# convertir a mayúsculas\n",
        "b.upper()\n",
        "# convertir a minúsculas\n",
        "b.lower()\n",
        "# partir el texto por el caracter espacio ' '\n",
        "b.split(' ')\n",
        "# davuelve una lista con todas las líneas de una cadena.\n",
        "b.splitlines()\n",
        "# reune los caracteres de un arreglo de cadenas de texto\n",
        "s = \"-\";\n",
        "seq = (\"a\", \"b\", \"c\");\n",
        "print(s.join(seq))\n",
        "# devuelve una copia de la cadena en la cual se han eliminado todos los caracteres del final de la cadena (si omite el parámetro se eliminarán los espacios en blanco).\n",
        "x = b.rstrip('1')\n",
        "print(x)\n",
        "# Devuelve una copia de la cadena en la cual todos los caracteres del inicio y del final han sido eliminados de la misma (si omite el parámetro se eliminarán los espacios en blanco)\n",
        "y = b.strip('1')\n",
        "print(y)\n",
        "\n",
        "```\n"
      ]
    },
    {
      "cell_type": "code",
      "metadata": {
        "id": "FEOHGHVVC44t"
      },
      "source": [
        "# Pruebe el código en esta celda"
      ],
      "execution_count": null,
      "outputs": []
    },
    {
      "cell_type": "markdown",
      "metadata": {
        "id": "IIz8CqjFk4Zk"
      },
      "source": [
        "### Convertir texto a lista de caracteres\n",
        "\n",
        "```python\n",
        "text5 = 'If the class is too full and we are running out of space'\n",
        "list(text5)\n",
        "\n",
        "```\n"
      ]
    },
    {
      "cell_type": "code",
      "metadata": {
        "id": "wk_84gPRqahP"
      },
      "source": [
        "# Pruebe el código en esta celda"
      ],
      "execution_count": null,
      "outputs": []
    },
    {
      "cell_type": "markdown",
      "metadata": {
        "id": "S7PspYofz6z4"
      },
      "source": [
        "## __Ejercicios de Algoritmos de listas__\n",
        "\n",
        "> - Para los siguientes ejercicios no se deben utilizar funciones externas o de python. La idea es crear funciones propias.\n",
        "- En los siguientes ejercicios, primero determine los pasos que solucionan el problema, luego codifique la solución, pruebe los pasos uno a uno hasta obtener la solución completa, y finalmente convierta el resultado en una función.\n",
        "    1. Hacer una función que busca un valor en una lista y devuelve la cantidad de veces que aparece el valor dado y una lista con las posiciones (índices) en donde se encuentra el valor. La función recibe la lista y el valor a buscar. Por ejemplo;\n",
        "    `entrada: ([1,8,2,8,8,4,7,8,8,2,8,3,8,7,6], 8) salida: (7, [1,3,4,7,8,10,12]`\n",
        "    2. Diseñe un algoritmo que recibe dos listas de valores numéricos y busca la secuencia completa de valores de la segunda lista dentro de la primera lista. El algoritmo devuelve el índice en donde se inicia la coincidencia completa. En este ejercicio no se pueden usar otras funciones ni librerias Por ejemplo:\n",
        "    `entrada: ([1,2,2,2,3,2,3,7,2,6,7], [2,3,7]) salida: (5)`\n",
        "    2. Se requiere un algoritmo que halle el valor máximo de una lista y devuelva el valor máximo, las veces que se encuentra y una lista con las posiciones (los índices) en donde se encuentra.\n",
        "    3. Hallar el promedio de una lista de valores.\n",
        "    3. Dada una lista de valores, halle la desviación estándar.\n",
        "    3. Diseñe un algoritmo que calcule la mediana de una lista de valores.\n",
        "    4. Diseñe una función que recibe una lista de valores y devuelve una lista en donde se eliminan los valores únicos. Por ejemplo:\n",
        "    `Entrada: ([8,7,3,9,4,12,6,4,3,7,0,8,5,6,21,11,6,1,2,5]) Salida: ([8,7,3,4,6,4,3,7,8,5,6,6,1,2,5])` <br>Observe que en este ejemplo se eliminaron los valores `[9,12,0,21,11]`\n",
        "    4. Dada la fórmula del sesgo positivo, diseñe un algoritmo que lo calcule a partir de una lista de valores.\n",
        "$$ sp = \\frac{1}{N-1}\\sum_{i=1}^N \\frac{1}{1+e^{-f\\cdot y_i}}$$\n",
        "donde $N$ es la cantidad de muestras, $f$ es el factor de multiplicación que puede ser 4, 8, o 16, y $y$ es:\n",
        "\n",
        "$$ y_i = \\frac{(x_i-\\mu)}{\\sigma}$$\n",
        "\n",
        "\n"
      ]
    },
    {
      "cell_type": "code",
      "metadata": {
        "id": "BnQyV_qZmmA-"
      },
      "source": [
        "\n"
      ],
      "execution_count": null,
      "outputs": []
    },
    {
      "cell_type": "markdown",
      "metadata": {
        "id": "Q1ad3jj4qiiZ"
      },
      "source": [
        "## __Problema de las votaciones__\n",
        "\n",
        "A continuación tenemos un diccionario con el nombre del candidato y el número que le corresponde. También, se tienen cinco mesas de votación en donde se registra el voto por cada candidato usando el respectivo número. Cuando se registra cero, corresponde a votos en blanco. El objetivo es contar la votación de cada candidato para saber como proceder de acuerdo con las siguientes reglas:\n",
        "\n",
        "1. Si el voto en blanco consigue la mayor votación se debe convocar otras elecciones con otros candidatos\n",
        "2. Si un candidato supera más del 50% de la votación, quitando los votos en blanco. Gana las elecciones\n",
        "3. En caso contrario, los dos candidatos con mayor votación pasan a segunda vuelta.\n",
        "\n",
        "Hacer un programa que determine cual es el resultado final de las elecciones de acuerdo con las reglas establecidas siguiendo los pasos del pensamiento computacional.\n",
        "\n"
      ]
    },
    {
      "cell_type": "code",
      "metadata": {
        "id": "HeIyTF_Gqv5a"
      },
      "source": [
        "import numpy as np\n",
        "\n",
        "candidatos = {'José Arcadio': 101, 'Aureliano': 75, 'Úrsula': 143, 'Amaranta': 56, 'Rebeca': 9, 'blanco': 0}\n",
        "mesa1 = [75,143,75,56,0,9,0,75,9,9,143,75,75,0,101,101,75,56,101,56,0,56,0,101,56,143,101,56,56,101,0,56,0,0,0]\n",
        "mesa2 = [0,0,0,101,0,101,0,143,0,56,0,143,9,101,56,101,56,75,0,0,101,101,101,0,0,56,75,0,56,0,75,75,0,0,101,143,75,143,56,101]\n",
        "mesa3 = [56,143,0,0,9,101,9,75,101,9,101,0,143,75,0,0,143,75,143,0,101,56,56,75,56,0,75,9,0,75,75,0,0,0,101,101,0,101,0,75,0,0,0,101,9]\n",
        "mesa4 = [75,0,0,143,0,101,0,0,75,101,75,0,101,56,0,0,101,9,0,0,56,56,75,0,143,143,101,101,101,75,0,143,101,0,0,75,101,143,101,0,75,101,75,75,0,56,143,101,101,0]\n",
        "mesa5 = [0,0,0,0,75,101,101,143,9,75,143,0,75,56,75,143,0,56,101,0,101,9,9,75,101,0,101,0,0,101,143,101,101,56,0,0,0,0,75,75,101,101,101,101,101,9,75,143,0,56,143,143,75,56,101]\n",
        "\n"
      ],
      "execution_count": null,
      "outputs": []
    },
    {
      "cell_type": "code",
      "metadata": {
        "id": "RYQ1NiOildcJ"
      },
      "source": [],
      "execution_count": null,
      "outputs": []
    },
    {
      "cell_type": "markdown",
      "metadata": {
        "id": "GnXTX0tYm3nt"
      },
      "source": [
        "### __Billetes y monedas__\n",
        "\n",
        "> - El objetivo es recibir un valor monetario que sea múltiplo de 100. Luego de esto, calcular el menor número posible de billetes y monedas en los cuales su valor puede ser descompuesto. Los billetes a tener en cuenta son de 50000, 20000, 10000, 5000 y 2000. Las monedas posibles son de 1000, 500, 200, y 100.Diseñar un algoritmo que reciba una cantidad monetaria e imprima una serie de valores el valor del billete o moneda acompañadp de la cantidad que se requiere para completar el valor solicitado.\n",
        "- Pruebas:\n",
        "\n",
        "| Entrada | Salida\n",
        "| :---: |---\n",
        "| 41200 | 20000 2 1000 1 200 1\n",
        "| 188600 | 50000 3 20000 1 10000 1 5000 1 2000 1 1000 1 500 1 100 1\n",
        "| 400900 | 50000 8 500 1 200 2\n",
        "| 1300 | 1000 1 200 1 100 1\n",
        "| 350000 | 50000 7\n",
        "\n"
      ]
    },
    {
      "cell_type": "code",
      "source": [
        "multiplos = int(input('ingrese un valor multiplo de 100: '))\n",
        "valores=[50000,20000,10000,5000,2000,1000,500,200,100]\n",
        "for i in valores:\n",
        "    if i <= multiplos:\n",
        "        cantidad = multiplos//i\n",
        "        residuo = multiplos%i\n",
        "        multiplos = residuo\n",
        "        print(i,'\\t',cantidad)\n",
        "\n"
      ],
      "metadata": {
        "id": "NxHwrgosM43H",
        "colab": {
          "base_uri": "https://localhost:8080/"
        },
        "outputId": "ebb5e3e4-f6f4-4b45-bda3-e00012e8e643"
      },
      "execution_count": null,
      "outputs": [
        {
          "output_type": "stream",
          "name": "stdout",
          "text": [
            "ingrese un valor multiplo de 100: 1300\n",
            "1000 \t 1\n",
            "200 \t 1\n",
            "100 \t 1\n"
          ]
        }
      ]
    },
    {
      "cell_type": "markdown",
      "metadata": {
        "id": "hc1oUyHTk4P2"
      },
      "source": [
        "# TALLER PRÁCTICO\n",
        "---\n",
        "El __objetivo__ de esta práctica es desarrollar los ejercicios con los conocimiento que se han visto en el curso hasta el momento. La idea no es usar todavía librerías para minería de texto.El trabajo esta diseñado para hacerlo en grupo, en donde la idea es compartir los conocimientos para que todos los integranetes del puedad comprender una solución final a una problemática.\n",
        "\n",
        "Para esta práctica se entregan dos archivos de texto:\n",
        "* __fragmento.txt__ corresponde a un archivo que tiene un fragmento del libro de 100 años de soledad\n",
        "* __stopWordsSPA.txt__ Corresponde a un listado de las palabras, las cuales carecen de significado por si solas. En general la lista la componen los: artículos, preposiciones, conjunciones, pronombres, etc.\n",
        "\n",
        "Por favor usar diferentes bloques de código para resolver cada uno de los ejercicios. La idea es volver a usar los bloques en código en los diferentes ejercicios.\n"
      ]
    },
    {
      "cell_type": "markdown",
      "metadata": {
        "id": "TWzkHpkAk30c"
      },
      "source": [
        "### 1. Contar\n",
        "La idea de este ejercicio es leer dos archivos de texto que se entregaron _fragmentos.txt_ y _stopWordsSPA.txt_ y contar: carácteres, palabras y frases que tienen. Una vez lo resuelva escríbalo en forma de función (def)\n",
        "\n",
        "\n",
        "```python\n",
        "pf = open('fragmento.txt', 'r')\n",
        "texto = pf.read()\n",
        "fpal = texto.split()\n",
        "ffra = texto.split('.')\n",
        "print(len(texto), len(fpal), len(ffra))\n",
        "\n",
        "```\n",
        "\n",
        "\n"
      ]
    },
    {
      "cell_type": "markdown",
      "metadata": {
        "id": "biFlbxPW8tUF"
      },
      "source": [
        "### 2. Buscar\n",
        "La idea en este ejercicio es buscar la palabra 'todo' en el archivo _fragmento.txt_. Generar una lista con las posiciones en el texto en donde aparece la palabra dada. Contar cuantas veces aparece la palabra sola (completa) y cuántas veces aparece acompañada (como parte de otra palabra). Al final generar una función (def) que recibe como parámetro el archivo y la palabra, y la función retorna la lista de posiciones y la cantidad de veces que aparece sola y la cantidad de veces que aparece dentro de otra palabra.\n",
        "\n",
        "_Resultados:_\n",
        "\n",
        "```\n",
        "Indice   Palabra   \t Modo  \t\tcuenta\n",
        "505      Todos    \t dentro  \t(1)\n",
        "1014 \t todo    \t completa  \t(1)\n",
        "1479 \t todo    \t completa  \t(2)\n",
        "6443 \t método    \t dentro  \t(2)\n",
        "8050 \t todos    \t dentro  \t(3)\n",
        "12778\t todo    \t completa  \t(3)\n",
        "13635\t todo    \t completa  \t(4)\n",
        "14648\t todo    \t completa  \t(5)\n",
        "15323\t todos    \t dentro  \t(4)\n",
        "15842\t todo    \t completa  \t(6)\n",
        "17474\t todo    \t completa  \t(7)\n",
        "18315\t todos    \t dentro  \t(5)\n",
        "30742\t todos    \t dentro  \t(6)\n",
        "39601\t todos    \t dentro  \t(7)\n",
        "44842\t todos    \t dentro  \t(8)\n",
        "47843\t todo    \t completa  \t(8)\n",
        "48201\t todo    \t completa  \t(9)\n",
        "49715\t todo    \t completa  \t(10)\n",
        "51219\t todos    \t dentro  \t(9)\n",
        "Total palabras encontradas: 19\n",
        "- Palabra: 'todo' completa: 10 veces\n",
        "- Palabra: 'todo' dentro de otras palabras: 9 veces\n",
        "```\n"
      ]
    },
    {
      "cell_type": "code",
      "metadata": {
        "id": "c9tsgFnI-bYw"
      },
      "source": [
        "# resuelva aquí el punto 2:"
      ],
      "execution_count": null,
      "outputs": []
    },
    {
      "cell_type": "markdown",
      "metadata": {
        "id": "X14waos6-j5b"
      },
      "source": [
        "### 3. Signos de puntuación\n",
        "> - Determinar en el archivo _fragmento.txt_ cuáles son los signos de puntuación que se usan y cuántos son.\n",
        "\n"
      ]
    },
    {
      "cell_type": "code",
      "metadata": {
        "id": "qJ87ll_bA7mk"
      },
      "source": [
        "# resuelva aquí el punto 3:"
      ],
      "execution_count": null,
      "outputs": []
    },
    {
      "cell_type": "markdown",
      "metadata": {
        "id": "YAHZ1BiFANAE"
      },
      "source": [
        "### 4. Buscar en conjunto\n",
        "Buscar todas las 'stop words' en el archivo _fragmento.txt_ y **contarlas**. Las stop words son las palabras que aparecen en el archivo llamado _stopWordsSPA.txt_. Escribirlo en forma de función (def) que recibe como parámetros los dos archivos y devuelve el conteo."
      ]
    },
    {
      "cell_type": "code",
      "metadata": {
        "id": "qhx727VeALB-"
      },
      "source": [
        "# resuelva aquí el punto 4:"
      ],
      "execution_count": null,
      "outputs": []
    },
    {
      "cell_type": "markdown",
      "metadata": {
        "id": "OA2wXCB9A_UY"
      },
      "source": [
        "\n",
        "\n",
        "```\n",
        "# Tiene formato de código\n",
        "```\n",
        "\n",
        "### 5. Ranking de palabras\n",
        "Con el archivo _fragmento.txt_ genere un conteo de la frecuencia de cada una de las palabras, excepto las que aparecen en _stopWordsSPA.txt_. Luego determine el Top 20 de las palabras más usadas en el documento. Finalmente, con las 20 palabras que más aparecen haga una gráfica de pulsos o de barras.\n"
      ]
    },
    {
      "cell_type": "code",
      "metadata": {
        "id": "-Y9YfLH4BweU"
      },
      "source": [
        "# resuelva aquí el punto 5:"
      ],
      "execution_count": null,
      "outputs": []
    }
  ]
}